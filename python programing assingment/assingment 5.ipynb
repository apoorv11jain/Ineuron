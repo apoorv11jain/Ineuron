{
 "cells": [
  {
   "cell_type": "markdown",
   "metadata": {},
   "source": [
    "# Assingment 5"
   ]
  },
  {
   "cell_type": "markdown",
   "metadata": {},
   "source": [
    "1. Write a Python Program to Find LCM?"
   ]
  },
  {
   "cell_type": "code",
   "execution_count": 1,
   "metadata": {},
   "outputs": [
    {
     "name": "stdout",
     "output_type": "stream",
     "text": [
      "Enter num1 5\n",
      "Enter num2 6\n",
      "The LCM of 5 and 6 is 30\n"
     ]
    }
   ],
   "source": [
    "num1 = int(input(\"Enter num1 \"))\n",
    "num2 = int(input(\"Enter num2 \"))\n",
    "g = max(num1,num2)\n",
    "while True:\n",
    "    if g%num1 ==0 and g%num2 == 0:\n",
    "        print(f\"The LCM of {num1} and {num2} is {g}\")\n",
    "        break\n",
    "    g+=1"
   ]
  },
  {
   "cell_type": "markdown",
   "metadata": {},
   "source": [
    "2. Write a Python Program to Find HCF?"
   ]
  },
  {
   "cell_type": "code",
   "execution_count": 2,
   "metadata": {},
   "outputs": [
    {
     "name": "stdout",
     "output_type": "stream",
     "text": [
      "Enter num110\n",
      "Enter num220\n",
      "the HCF of 10 and 20 is 5\n"
     ]
    }
   ],
   "source": [
    "num1 = int(input(\"Enter num1\"))\n",
    "num2 = int(input(\"Enter num2\"))\n",
    "hcf =1\n",
    "for i in range(2,min(num1,num2)):\n",
    "    if num1%i ==0 and num2%i==0:\n",
    "        hcf =i\n",
    "print(f\"the HCF of {num1} and {num2} is {hcf}\")"
   ]
  },
  {
   "cell_type": "markdown",
   "metadata": {},
   "source": [
    "3. Write a Python Program to Convert Decimal to Binary, Octal and Hexadecimal?"
   ]
  },
  {
   "cell_type": "code",
   "execution_count": 3,
   "metadata": {},
   "outputs": [
    {
     "name": "stdout",
     "output_type": "stream",
     "text": [
      "Enter the value55\n",
      "Decimal of 55 = Binary of 110111\n",
      "Decimal of 55 = Octal of 67\n",
      "Decimal of 55 = Hexadecimal of 37\n"
     ]
    }
   ],
   "source": [
    "a = int(input(\"Enter the value\"))\n",
    "print(f\"Decimal of {a} = Binary of {bin(a).replace('0b', '')}\")\n",
    "print(f\"Decimal of {a} = Octal of {oct(a).replace('0o', '')}\")\n",
    "print(f\"Decimal of {a} = Hexadecimal of {hex(a).replace('0x', '')}\")"
   ]
  },
  {
   "cell_type": "markdown",
   "metadata": {},
   "source": [
    "4. Write a Python Program To Find ASCII value of a character?"
   ]
  },
  {
   "cell_type": "code",
   "execution_count": 4,
   "metadata": {},
   "outputs": [
    {
     "name": "stdout",
     "output_type": "stream",
     "text": [
      "Enter character a\n",
      "The ASCII code of a is 97\n"
     ]
    }
   ],
   "source": [
    "a = input(\"Enter character \")\n",
    "print(f\"The ASCII code of {a} is {ord(a)}\")"
   ]
  },
  {
   "cell_type": "markdown",
   "metadata": {},
   "source": [
    "5. Write a Python Program to Make a Simple Calculator with 4 basic mathematical operations?"
   ]
  },
  {
   "cell_type": "code",
   "execution_count": 5,
   "metadata": {},
   "outputs": [
    {
     "name": "stdout",
     "output_type": "stream",
     "text": [
      " enter a 5\n",
      " enter b 6\n",
      "+ , - , /. *  +\n",
      "5+6 = 11\n"
     ]
    }
   ],
   "source": [
    "a= input(\" enter a \")\n",
    "b= input(\" enter b \")\n",
    "c = input(\"+ , - , /. *  \")\n",
    "print(f\"{a+c+b} =\",eval(a+c+b))"
   ]
  },
  {
   "cell_type": "code",
   "execution_count": null,
   "metadata": {},
   "outputs": [],
   "source": []
  }
 ],
 "metadata": {
  "kernelspec": {
   "display_name": "Python 3",
   "language": "python",
   "name": "python3"
  },
  "language_info": {
   "codemirror_mode": {
    "name": "ipython",
    "version": 3
   },
   "file_extension": ".py",
   "mimetype": "text/x-python",
   "name": "python",
   "nbconvert_exporter": "python",
   "pygments_lexer": "ipython3",
   "version": "3.7.7"
  }
 },
 "nbformat": 4,
 "nbformat_minor": 4
}
